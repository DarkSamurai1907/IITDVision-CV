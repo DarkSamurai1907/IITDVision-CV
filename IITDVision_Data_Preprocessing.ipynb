{
  "nbformat": 4,
  "nbformat_minor": 0,
  "metadata": {
    "colab": {
      "provenance": []
    },
    "kernelspec": {
      "name": "python3",
      "display_name": "Python 3"
    },
    "language_info": {
      "name": "python"
    }
  },
  "cells": [
    {
      "cell_type": "code",
      "source": [
        "import os\n",
        "os.chdir(\"/content/drive/MyDrive/IITDVision\")"
      ],
      "metadata": {
        "id": "hnW8-xHnk_-c"
      },
      "execution_count": 2,
      "outputs": []
    },
    {
      "cell_type": "code",
      "execution_count": 19,
      "metadata": {
        "colab": {
          "base_uri": "https://localhost:8080/"
        },
        "id": "71tuDfCWj_Sx",
        "outputId": "ac36dbe7-92ac-4da6-c054-2cf838158119"
      },
      "outputs": [
        {
          "output_type": "stream",
          "name": "stdout",
          "text": [
            "Data split complete! Train and validation sets created.\n"
          ]
        }
      ],
      "source": [
        "import json\n",
        "import os\n",
        "import shutil\n",
        "import random\n",
        "\n",
        "json_file_path = \"/content/drive/MyDrive/IITDVision/dataset/images/annotations.json\"\n",
        "images_dir = \"/content/drive/MyDrive/IITDVision/dataset/images/images\"\n",
        "output_dir = \"/content/drive/MyDrive/IITDVision/datasetv2/images/\"\n",
        "\n",
        "annotations_dir = os.path.join(output_dir, \"annotations\")\n",
        "train_images_dir = os.path.join(output_dir, \"train2017\")\n",
        "val_images_dir = os.path.join(output_dir, \"val2017\")\n",
        "\n",
        "os.makedirs(annotations_dir, exist_ok=True)\n",
        "os.makedirs(train_images_dir, exist_ok=True)\n",
        "os.makedirs(val_images_dir, exist_ok=True)\n",
        "\n",
        "with open(json_file_path, 'r') as f:\n",
        "    data = json.load(f)\n",
        "\n",
        "images = data['images']\n",
        "annotations = data['annotations']\n",
        "\n",
        "random.shuffle(images)\n",
        "\n",
        "val_images = images[:40]\n",
        "train_images = images[40:]\n",
        "\n",
        "train_image_ids = {img['id'] for img in train_images}\n",
        "val_image_ids = {img['id'] for img in val_images}\n",
        "\n",
        "train_annotations = [ann for ann in annotations if ann['image_id'] in train_image_ids]\n",
        "val_annotations = [ann for ann in annotations if ann['image_id'] in val_image_ids]\n",
        "\n",
        "train_data = {\n",
        "    'images': train_images,\n",
        "    'annotations': train_annotations,\n",
        "    'categories': data['categories']\n",
        "}\n",
        "\n",
        "val_data = {\n",
        "    'images': val_images,\n",
        "    'annotations': val_annotations,\n",
        "    'categories': data['categories']\n",
        "}\n",
        "\n",
        "train_json_path = os.path.join(annotations_dir, 'instances_train2017.json')\n",
        "val_json_path = os.path.join(annotations_dir, 'instances_val2017.json')\n",
        "\n",
        "with open(train_json_path, 'w') as f:\n",
        "    json.dump(train_data, f)\n",
        "\n",
        "with open(val_json_path, 'w') as f:\n",
        "    json.dump(val_data, f)\n",
        "\n",
        "for img in train_images:\n",
        "    src_path = os.path.join(images_dir, img['file_name'])\n",
        "    dst_path = os.path.join(train_images_dir, img['file_name'])\n",
        "    shutil.copy(src_path, dst_path)\n",
        "\n",
        "for img in val_images:\n",
        "    src_path = os.path.join(images_dir, img['file_name'])\n",
        "    dst_path = os.path.join(val_images_dir, img['file_name'])\n",
        "    shutil.copy(src_path, dst_path)\n",
        "\n",
        "print(\"Data split complete! Train and validation sets created.\")\n"
      ]
    },
    {
      "cell_type": "code",
      "source": [
        "directory = '/content/drive/MyDrive/IITDVision/datasetv2/images/val2017'\n",
        "\n",
        "files_in_directory = os.listdir(directory)\n",
        "\n",
        "files = [f for f in files_in_directory if os.path.isfile(os.path.join(directory, f))]\n",
        "\n",
        "print(f\"Number of files: {len(files)}\")"
      ],
      "metadata": {
        "colab": {
          "base_uri": "https://localhost:8080/"
        },
        "id": "BtIB1W60lLUQ",
        "outputId": "0230f888-0cfa-4578-cf4c-5bf1e990c004"
      },
      "execution_count": 21,
      "outputs": [
        {
          "output_type": "stream",
          "name": "stdout",
          "text": [
            "Number of files: 40\n"
          ]
        }
      ]
    }
  ]
}